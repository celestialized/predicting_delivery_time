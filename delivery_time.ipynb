{
 "cells": [
  {
   "cell_type": "markdown",
   "metadata": {},
   "source": [
    "# Importing libraries"
   ]
  },
  {
   "cell_type": "code",
   "execution_count": 1,
   "metadata": {},
   "outputs": [],
   "source": [
    "import pandas as pd\n",
    "import numpy as np\n",
    "from datetime import datetime as dt"
   ]
  },
  {
   "cell_type": "markdown",
   "metadata": {},
   "source": [
    "# Importing the data"
   ]
  },
  {
   "cell_type": "code",
   "execution_count": 2,
   "metadata": {},
   "outputs": [],
   "source": [
    "train_data = pd.read_csv('historical_data.csv',parse_dates =[1,2])\n",
    "test_data = pd.read_csv('predict_data.csv',parse_dates =[1])"
   ]
  },
  {
   "cell_type": "code",
   "execution_count": 3,
   "metadata": {},
   "outputs": [
    {
     "data": {
      "text/html": [
       "<div>\n",
       "<style scoped>\n",
       "    .dataframe tbody tr th:only-of-type {\n",
       "        vertical-align: middle;\n",
       "    }\n",
       "\n",
       "    .dataframe tbody tr th {\n",
       "        vertical-align: top;\n",
       "    }\n",
       "\n",
       "    .dataframe thead th {\n",
       "        text-align: right;\n",
       "    }\n",
       "</style>\n",
       "<table border=\"1\" class=\"dataframe\">\n",
       "  <thead>\n",
       "    <tr style=\"text-align: right;\">\n",
       "      <th></th>\n",
       "      <th>market_id</th>\n",
       "      <th>created_at</th>\n",
       "      <th>actual_delivery_time</th>\n",
       "      <th>store_id</th>\n",
       "      <th>store_primary_category</th>\n",
       "      <th>order_protocol</th>\n",
       "      <th>total_items</th>\n",
       "      <th>subtotal</th>\n",
       "      <th>num_distinct_items</th>\n",
       "      <th>min_item_price</th>\n",
       "      <th>max_item_price</th>\n",
       "      <th>total_onshift_dashers</th>\n",
       "      <th>total_busy_dashers</th>\n",
       "      <th>total_outstanding_orders</th>\n",
       "      <th>estimated_order_place_duration</th>\n",
       "      <th>estimated_store_to_consumer_driving_duration</th>\n",
       "    </tr>\n",
       "  </thead>\n",
       "  <tbody>\n",
       "    <tr>\n",
       "      <th>0</th>\n",
       "      <td>1.0</td>\n",
       "      <td>2015-02-06 22:24:00</td>\n",
       "      <td>2015-02-06 23:27:00</td>\n",
       "      <td>1845</td>\n",
       "      <td>american</td>\n",
       "      <td>1.0</td>\n",
       "      <td>4</td>\n",
       "      <td>3441</td>\n",
       "      <td>4</td>\n",
       "      <td>557</td>\n",
       "      <td>1239</td>\n",
       "      <td>33.0</td>\n",
       "      <td>14.0</td>\n",
       "      <td>21.0</td>\n",
       "      <td>446</td>\n",
       "      <td>861.0</td>\n",
       "    </tr>\n",
       "    <tr>\n",
       "      <th>1</th>\n",
       "      <td>2.0</td>\n",
       "      <td>2015-02-10 21:49:00</td>\n",
       "      <td>2015-02-10 22:56:00</td>\n",
       "      <td>5477</td>\n",
       "      <td>mexican</td>\n",
       "      <td>2.0</td>\n",
       "      <td>1</td>\n",
       "      <td>1900</td>\n",
       "      <td>1</td>\n",
       "      <td>1400</td>\n",
       "      <td>1400</td>\n",
       "      <td>1.0</td>\n",
       "      <td>2.0</td>\n",
       "      <td>2.0</td>\n",
       "      <td>446</td>\n",
       "      <td>690.0</td>\n",
       "    </tr>\n",
       "    <tr>\n",
       "      <th>2</th>\n",
       "      <td>3.0</td>\n",
       "      <td>2015-01-22 20:39:00</td>\n",
       "      <td>2015-01-22 21:09:00</td>\n",
       "      <td>5477</td>\n",
       "      <td>NaN</td>\n",
       "      <td>1.0</td>\n",
       "      <td>1</td>\n",
       "      <td>1900</td>\n",
       "      <td>1</td>\n",
       "      <td>1900</td>\n",
       "      <td>1900</td>\n",
       "      <td>1.0</td>\n",
       "      <td>0.0</td>\n",
       "      <td>0.0</td>\n",
       "      <td>446</td>\n",
       "      <td>690.0</td>\n",
       "    </tr>\n",
       "    <tr>\n",
       "      <th>3</th>\n",
       "      <td>3.0</td>\n",
       "      <td>2015-02-03 21:21:00</td>\n",
       "      <td>2015-02-03 22:13:00</td>\n",
       "      <td>5477</td>\n",
       "      <td>NaN</td>\n",
       "      <td>1.0</td>\n",
       "      <td>6</td>\n",
       "      <td>6900</td>\n",
       "      <td>5</td>\n",
       "      <td>600</td>\n",
       "      <td>1800</td>\n",
       "      <td>1.0</td>\n",
       "      <td>1.0</td>\n",
       "      <td>2.0</td>\n",
       "      <td>446</td>\n",
       "      <td>289.0</td>\n",
       "    </tr>\n",
       "    <tr>\n",
       "      <th>4</th>\n",
       "      <td>3.0</td>\n",
       "      <td>2015-02-15 02:40:00</td>\n",
       "      <td>2015-02-15 03:20:00</td>\n",
       "      <td>5477</td>\n",
       "      <td>NaN</td>\n",
       "      <td>1.0</td>\n",
       "      <td>3</td>\n",
       "      <td>3900</td>\n",
       "      <td>3</td>\n",
       "      <td>1100</td>\n",
       "      <td>1600</td>\n",
       "      <td>6.0</td>\n",
       "      <td>6.0</td>\n",
       "      <td>9.0</td>\n",
       "      <td>446</td>\n",
       "      <td>650.0</td>\n",
       "    </tr>\n",
       "  </tbody>\n",
       "</table>\n",
       "</div>"
      ],
      "text/plain": [
       "   market_id          created_at actual_delivery_time  store_id  \\\n",
       "0        1.0 2015-02-06 22:24:00  2015-02-06 23:27:00      1845   \n",
       "1        2.0 2015-02-10 21:49:00  2015-02-10 22:56:00      5477   \n",
       "2        3.0 2015-01-22 20:39:00  2015-01-22 21:09:00      5477   \n",
       "3        3.0 2015-02-03 21:21:00  2015-02-03 22:13:00      5477   \n",
       "4        3.0 2015-02-15 02:40:00  2015-02-15 03:20:00      5477   \n",
       "\n",
       "  store_primary_category  order_protocol  total_items  subtotal  \\\n",
       "0               american             1.0            4      3441   \n",
       "1                mexican             2.0            1      1900   \n",
       "2                    NaN             1.0            1      1900   \n",
       "3                    NaN             1.0            6      6900   \n",
       "4                    NaN             1.0            3      3900   \n",
       "\n",
       "   num_distinct_items  min_item_price  max_item_price  total_onshift_dashers  \\\n",
       "0                   4             557            1239                   33.0   \n",
       "1                   1            1400            1400                    1.0   \n",
       "2                   1            1900            1900                    1.0   \n",
       "3                   5             600            1800                    1.0   \n",
       "4                   3            1100            1600                    6.0   \n",
       "\n",
       "   total_busy_dashers  total_outstanding_orders  \\\n",
       "0                14.0                      21.0   \n",
       "1                 2.0                       2.0   \n",
       "2                 0.0                       0.0   \n",
       "3                 1.0                       2.0   \n",
       "4                 6.0                       9.0   \n",
       "\n",
       "   estimated_order_place_duration  \\\n",
       "0                             446   \n",
       "1                             446   \n",
       "2                             446   \n",
       "3                             446   \n",
       "4                             446   \n",
       "\n",
       "   estimated_store_to_consumer_driving_duration  \n",
       "0                                         861.0  \n",
       "1                                         690.0  \n",
       "2                                         690.0  \n",
       "3                                         289.0  \n",
       "4                                         650.0  "
      ]
     },
     "execution_count": 3,
     "metadata": {},
     "output_type": "execute_result"
    }
   ],
   "source": [
    "train_data.head()"
   ]
  },
  {
   "cell_type": "code",
   "execution_count": 4,
   "metadata": {},
   "outputs": [
    {
     "data": {
      "text/html": [
       "<div>\n",
       "<style scoped>\n",
       "    .dataframe tbody tr th:only-of-type {\n",
       "        vertical-align: middle;\n",
       "    }\n",
       "\n",
       "    .dataframe tbody tr th {\n",
       "        vertical-align: top;\n",
       "    }\n",
       "\n",
       "    .dataframe thead th {\n",
       "        text-align: right;\n",
       "    }\n",
       "</style>\n",
       "<table border=\"1\" class=\"dataframe\">\n",
       "  <thead>\n",
       "    <tr style=\"text-align: right;\">\n",
       "      <th></th>\n",
       "      <th>market_id</th>\n",
       "      <th>created_at</th>\n",
       "      <th>store_id</th>\n",
       "      <th>store_primary_category</th>\n",
       "      <th>order_protocol</th>\n",
       "      <th>total_items</th>\n",
       "      <th>subtotal</th>\n",
       "      <th>num_distinct_items</th>\n",
       "      <th>min_item_price</th>\n",
       "      <th>max_item_price</th>\n",
       "      <th>total_onshift_dashers</th>\n",
       "      <th>total_busy_dashers</th>\n",
       "      <th>total_outstanding_orders</th>\n",
       "      <th>estimated_order_place_duration</th>\n",
       "      <th>estimated_store_to_consumer_driving_duration</th>\n",
       "      <th>delivery_id</th>\n",
       "      <th>platform</th>\n",
       "    </tr>\n",
       "  </thead>\n",
       "  <tbody>\n",
       "    <tr>\n",
       "      <th>0</th>\n",
       "      <td>3.0</td>\n",
       "      <td>2015-02-25 02:22:30</td>\n",
       "      <td>5477</td>\n",
       "      <td>NaN</td>\n",
       "      <td>1.0</td>\n",
       "      <td>5</td>\n",
       "      <td>7500</td>\n",
       "      <td>4</td>\n",
       "      <td>800</td>\n",
       "      <td>1800</td>\n",
       "      <td>4.0</td>\n",
       "      <td>4.0</td>\n",
       "      <td>4.0</td>\n",
       "      <td>446</td>\n",
       "      <td>670.0</td>\n",
       "      <td>194096</td>\n",
       "      <td>android</td>\n",
       "    </tr>\n",
       "    <tr>\n",
       "      <th>1</th>\n",
       "      <td>3.0</td>\n",
       "      <td>2015-02-25 01:14:19</td>\n",
       "      <td>5477</td>\n",
       "      <td>NaN</td>\n",
       "      <td>1.0</td>\n",
       "      <td>5</td>\n",
       "      <td>7100</td>\n",
       "      <td>4</td>\n",
       "      <td>800</td>\n",
       "      <td>1500</td>\n",
       "      <td>4.0</td>\n",
       "      <td>1.0</td>\n",
       "      <td>1.0</td>\n",
       "      <td>446</td>\n",
       "      <td>446.0</td>\n",
       "      <td>236895</td>\n",
       "      <td>other</td>\n",
       "    </tr>\n",
       "    <tr>\n",
       "      <th>2</th>\n",
       "      <td>4.0</td>\n",
       "      <td>2015-02-22 02:27:44</td>\n",
       "      <td>5477</td>\n",
       "      <td>thai</td>\n",
       "      <td>1.0</td>\n",
       "      <td>4</td>\n",
       "      <td>4500</td>\n",
       "      <td>2</td>\n",
       "      <td>750</td>\n",
       "      <td>1500</td>\n",
       "      <td>9.0</td>\n",
       "      <td>7.0</td>\n",
       "      <td>6.0</td>\n",
       "      <td>446</td>\n",
       "      <td>504.0</td>\n",
       "      <td>190868</td>\n",
       "      <td>android</td>\n",
       "    </tr>\n",
       "    <tr>\n",
       "      <th>3</th>\n",
       "      <td>3.0</td>\n",
       "      <td>2015-02-25 01:32:39</td>\n",
       "      <td>5477</td>\n",
       "      <td>NaN</td>\n",
       "      <td>1.0</td>\n",
       "      <td>1</td>\n",
       "      <td>1700</td>\n",
       "      <td>1</td>\n",
       "      <td>1400</td>\n",
       "      <td>1400</td>\n",
       "      <td>3.0</td>\n",
       "      <td>3.0</td>\n",
       "      <td>3.0</td>\n",
       "      <td>446</td>\n",
       "      <td>687.0</td>\n",
       "      <td>183076</td>\n",
       "      <td>ios</td>\n",
       "    </tr>\n",
       "    <tr>\n",
       "      <th>4</th>\n",
       "      <td>1.0</td>\n",
       "      <td>2015-02-24 05:20:45</td>\n",
       "      <td>2841</td>\n",
       "      <td>italian</td>\n",
       "      <td>1.0</td>\n",
       "      <td>2</td>\n",
       "      <td>3150</td>\n",
       "      <td>2</td>\n",
       "      <td>1525</td>\n",
       "      <td>1625</td>\n",
       "      <td>4.0</td>\n",
       "      <td>4.0</td>\n",
       "      <td>4.0</td>\n",
       "      <td>446</td>\n",
       "      <td>528.0</td>\n",
       "      <td>186200</td>\n",
       "      <td>android</td>\n",
       "    </tr>\n",
       "  </tbody>\n",
       "</table>\n",
       "</div>"
      ],
      "text/plain": [
       "   market_id          created_at  store_id store_primary_category  \\\n",
       "0        3.0 2015-02-25 02:22:30      5477                    NaN   \n",
       "1        3.0 2015-02-25 01:14:19      5477                    NaN   \n",
       "2        4.0 2015-02-22 02:27:44      5477                   thai   \n",
       "3        3.0 2015-02-25 01:32:39      5477                    NaN   \n",
       "4        1.0 2015-02-24 05:20:45      2841                italian   \n",
       "\n",
       "   order_protocol  total_items  subtotal  num_distinct_items  min_item_price  \\\n",
       "0             1.0            5      7500                   4             800   \n",
       "1             1.0            5      7100                   4             800   \n",
       "2             1.0            4      4500                   2             750   \n",
       "3             1.0            1      1700                   1            1400   \n",
       "4             1.0            2      3150                   2            1525   \n",
       "\n",
       "   max_item_price  total_onshift_dashers  total_busy_dashers  \\\n",
       "0            1800                    4.0                 4.0   \n",
       "1            1500                    4.0                 1.0   \n",
       "2            1500                    9.0                 7.0   \n",
       "3            1400                    3.0                 3.0   \n",
       "4            1625                    4.0                 4.0   \n",
       "\n",
       "   total_outstanding_orders  estimated_order_place_duration  \\\n",
       "0                       4.0                             446   \n",
       "1                       1.0                             446   \n",
       "2                       6.0                             446   \n",
       "3                       3.0                             446   \n",
       "4                       4.0                             446   \n",
       "\n",
       "   estimated_store_to_consumer_driving_duration  delivery_id platform  \n",
       "0                                         670.0       194096  android  \n",
       "1                                         446.0       236895    other  \n",
       "2                                         504.0       190868  android  \n",
       "3                                         687.0       183076      ios  \n",
       "4                                         528.0       186200  android  "
      ]
     },
     "execution_count": 4,
     "metadata": {},
     "output_type": "execute_result"
    }
   ],
   "source": [
    "test_data.head()"
   ]
  },
  {
   "cell_type": "markdown",
   "metadata": {},
   "source": [
    "# Data engineering"
   ]
  },
  {
   "cell_type": "markdown",
   "metadata": {},
   "source": [
    "## Delivery time"
   ]
  },
  {
   "cell_type": "code",
   "execution_count": 5,
   "metadata": {},
   "outputs": [],
   "source": [
    "train_data['Duration'] = train_data['actual_delivery_time'] - train_data['created_at']\n",
    "train_data['Duration'] = train_data['Duration'].dt.seconds\n",
    "\n",
    "# drop the rows with delivery time more than three hours\n",
    "train_data = train_data[train_data['Duration']<=10800]"
   ]
  },
  {
   "cell_type": "markdown",
   "metadata": {},
   "source": [
    "## Dropping irrelevant columns"
   ]
  },
  {
   "cell_type": "code",
   "execution_count": 6,
   "metadata": {},
   "outputs": [],
   "source": [
    "created_at = train_data.created_at\n",
    "actual_delivery_time = train_data.actual_delivery_time\n",
    "\n",
    "train_data = train_data.drop(columns = ['created_at','actual_delivery_time'])"
   ]
  },
  {
   "cell_type": "markdown",
   "metadata": {},
   "source": [
    "## Summary of features"
   ]
  },
  {
   "cell_type": "code",
   "execution_count": 7,
   "metadata": {},
   "outputs": [],
   "source": [
    "# converting negative values to nan\n",
    "store_primary_category = train_data.store_primary_category\n",
    "train_data = train_data.drop(columns=['store_primary_category']).applymap(lambda x:x if x>=0 else float('nan'))\n",
    "train_data['store_primary_category'] = store_primary_category"
   ]
  },
  {
   "cell_type": "code",
   "execution_count": 8,
   "metadata": {},
   "outputs": [
    {
     "data": {
      "text/html": [
       "<div>\n",
       "<style scoped>\n",
       "    .dataframe tbody tr th:only-of-type {\n",
       "        vertical-align: middle;\n",
       "    }\n",
       "\n",
       "    .dataframe tbody tr th {\n",
       "        vertical-align: top;\n",
       "    }\n",
       "\n",
       "    .dataframe thead th {\n",
       "        text-align: right;\n",
       "    }\n",
       "</style>\n",
       "<table border=\"1\" class=\"dataframe\">\n",
       "  <thead>\n",
       "    <tr style=\"text-align: right;\">\n",
       "      <th></th>\n",
       "      <th>% missing</th>\n",
       "      <th>No_uniq</th>\n",
       "      <th>Max_Val</th>\n",
       "      <th>Min_Val</th>\n",
       "    </tr>\n",
       "  </thead>\n",
       "  <tbody>\n",
       "    <tr>\n",
       "      <th>market_id</th>\n",
       "      <td>0.50</td>\n",
       "      <td>6</td>\n",
       "      <td>6.0</td>\n",
       "      <td>1.0</td>\n",
       "    </tr>\n",
       "    <tr>\n",
       "      <th>store_id</th>\n",
       "      <td>0.00</td>\n",
       "      <td>6742</td>\n",
       "      <td>6987.0</td>\n",
       "      <td>1.0</td>\n",
       "    </tr>\n",
       "    <tr>\n",
       "      <th>order_protocol</th>\n",
       "      <td>0.50</td>\n",
       "      <td>7</td>\n",
       "      <td>7.0</td>\n",
       "      <td>1.0</td>\n",
       "    </tr>\n",
       "    <tr>\n",
       "      <th>total_items</th>\n",
       "      <td>0.00</td>\n",
       "      <td>57</td>\n",
       "      <td>411.0</td>\n",
       "      <td>1.0</td>\n",
       "    </tr>\n",
       "    <tr>\n",
       "      <th>subtotal</th>\n",
       "      <td>0.00</td>\n",
       "      <td>8367</td>\n",
       "      <td>27100.0</td>\n",
       "      <td>0.0</td>\n",
       "    </tr>\n",
       "    <tr>\n",
       "      <th>num_distinct_items</th>\n",
       "      <td>0.00</td>\n",
       "      <td>20</td>\n",
       "      <td>20.0</td>\n",
       "      <td>1.0</td>\n",
       "    </tr>\n",
       "    <tr>\n",
       "      <th>min_item_price</th>\n",
       "      <td>0.01</td>\n",
       "      <td>2300</td>\n",
       "      <td>14700.0</td>\n",
       "      <td>0.0</td>\n",
       "    </tr>\n",
       "    <tr>\n",
       "      <th>max_item_price</th>\n",
       "      <td>0.00</td>\n",
       "      <td>2652</td>\n",
       "      <td>14700.0</td>\n",
       "      <td>0.0</td>\n",
       "    </tr>\n",
       "    <tr>\n",
       "      <th>total_onshift_dashers</th>\n",
       "      <td>8.25</td>\n",
       "      <td>168</td>\n",
       "      <td>171.0</td>\n",
       "      <td>0.0</td>\n",
       "    </tr>\n",
       "    <tr>\n",
       "      <th>total_busy_dashers</th>\n",
       "      <td>8.25</td>\n",
       "      <td>154</td>\n",
       "      <td>154.0</td>\n",
       "      <td>0.0</td>\n",
       "    </tr>\n",
       "    <tr>\n",
       "      <th>total_outstanding_orders</th>\n",
       "      <td>8.26</td>\n",
       "      <td>275</td>\n",
       "      <td>285.0</td>\n",
       "      <td>0.0</td>\n",
       "    </tr>\n",
       "    <tr>\n",
       "      <th>estimated_order_place_duration</th>\n",
       "      <td>0.00</td>\n",
       "      <td>98</td>\n",
       "      <td>2715.0</td>\n",
       "      <td>0.0</td>\n",
       "    </tr>\n",
       "    <tr>\n",
       "      <th>estimated_store_to_consumer_driving_duration</th>\n",
       "      <td>0.27</td>\n",
       "      <td>1335</td>\n",
       "      <td>2088.0</td>\n",
       "      <td>0.0</td>\n",
       "    </tr>\n",
       "    <tr>\n",
       "      <th>Duration</th>\n",
       "      <td>0.00</td>\n",
       "      <td>178</td>\n",
       "      <td>10800.0</td>\n",
       "      <td>120.0</td>\n",
       "    </tr>\n",
       "    <tr>\n",
       "      <th>store_primary_category</th>\n",
       "      <td>2.41</td>\n",
       "      <td>74</td>\n",
       "      <td>NaN</td>\n",
       "      <td>NaN</td>\n",
       "    </tr>\n",
       "  </tbody>\n",
       "</table>\n",
       "</div>"
      ],
      "text/plain": [
       "                                              % missing  No_uniq  Max_Val  \\\n",
       "market_id                                          0.50        6      6.0   \n",
       "store_id                                           0.00     6742   6987.0   \n",
       "order_protocol                                     0.50        7      7.0   \n",
       "total_items                                        0.00       57    411.0   \n",
       "subtotal                                           0.00     8367  27100.0   \n",
       "num_distinct_items                                 0.00       20     20.0   \n",
       "min_item_price                                     0.01     2300  14700.0   \n",
       "max_item_price                                     0.00     2652  14700.0   \n",
       "total_onshift_dashers                              8.25      168    171.0   \n",
       "total_busy_dashers                                 8.25      154    154.0   \n",
       "total_outstanding_orders                           8.26      275    285.0   \n",
       "estimated_order_place_duration                     0.00       98   2715.0   \n",
       "estimated_store_to_consumer_driving_duration       0.27     1335   2088.0   \n",
       "Duration                                           0.00      178  10800.0   \n",
       "store_primary_category                             2.41       74      NaN   \n",
       "\n",
       "                                              Min_Val  \n",
       "market_id                                         1.0  \n",
       "store_id                                          1.0  \n",
       "order_protocol                                    1.0  \n",
       "total_items                                       1.0  \n",
       "subtotal                                          0.0  \n",
       "num_distinct_items                                1.0  \n",
       "min_item_price                                    0.0  \n",
       "max_item_price                                    0.0  \n",
       "total_onshift_dashers                             0.0  \n",
       "total_busy_dashers                                0.0  \n",
       "total_outstanding_orders                          0.0  \n",
       "estimated_order_place_duration                    0.0  \n",
       "estimated_store_to_consumer_driving_duration      0.0  \n",
       "Duration                                        120.0  \n",
       "store_primary_category                            NaN  "
      ]
     },
     "execution_count": 8,
     "metadata": {},
     "output_type": "execute_result"
    }
   ],
   "source": [
    "def ds_summry(Mod_df_2):\n",
    "    msng = ((Mod_df_2.isnull().sum()/len(Mod_df_2))*100).apply(round,args=(2,))\n",
    "    uniq,max_v,min_v = Mod_df_2.nunique(),Mod_df_2.max(),Mod_df_2.min()\n",
    "    df_stats = pd.concat([msng, uniq,max_v,min_v], axis=1).rename(index=str, \n",
    "                                                                  columns={0: \"% missing\", 1: \"No_uniq\",2:'Max_Val',3:'Min_Val'})\n",
    "    return df_stats\n",
    "\n",
    "ds_summry(train_data)\n"
   ]
  },
  {
   "cell_type": "markdown",
   "metadata": {},
   "source": [
    "## Handling categorical data and nan values"
   ]
  },
  {
   "cell_type": "code",
   "execution_count": 9,
   "metadata": {},
   "outputs": [
    {
     "name": "stdout",
     "output_type": "stream",
     "text": [
      "columns with null values:\n"
     ]
    },
    {
     "data": {
      "text/plain": [
       "market_id                                        True\n",
       "store_id                                        False\n",
       "order_protocol                                   True\n",
       "total_items                                     False\n",
       "subtotal                                        False\n",
       "num_distinct_items                              False\n",
       "min_item_price                                   True\n",
       "max_item_price                                  False\n",
       "total_onshift_dashers                            True\n",
       "total_busy_dashers                               True\n",
       "total_outstanding_orders                         True\n",
       "estimated_order_place_duration                  False\n",
       "estimated_store_to_consumer_driving_duration     True\n",
       "Duration                                        False\n",
       "store_primary_category                           True\n",
       "dtype: bool"
      ]
     },
     "execution_count": 9,
     "metadata": {},
     "output_type": "execute_result"
    }
   ],
   "source": [
    "print('columns with null values:')\n",
    "train_data.isnull().any(axis=0)"
   ]
  },
  {
   "cell_type": "markdown",
   "metadata": {},
   "source": [
    "### market_id"
   ]
  },
  {
   "cell_type": "code",
   "execution_count": 10,
   "metadata": {},
   "outputs": [],
   "source": [
    "# market_id: adding a new class for missing values:\n",
    "\n",
    "train_data.loc[train_data['market_id'].isnull(),'market_id'] = 0"
   ]
  },
  {
   "cell_type": "markdown",
   "metadata": {},
   "source": [
    "### store_id"
   ]
  },
  {
   "cell_type": "code",
   "execution_count": 11,
   "metadata": {},
   "outputs": [],
   "source": [
    "# store_id: convert to numerical classes:\n",
    "\n",
    "from sklearn import preprocessing\n",
    "le_strid = preprocessing.LabelEncoder()\n",
    "le_strid.fit(train_data['store_id'])\n",
    "train_data['store_id_t'] = le_strid.transform(train_data['store_id'])\n",
    "train_data.drop(['store_id'],axis = 1, inplace = True)"
   ]
  },
  {
   "cell_type": "markdown",
   "metadata": {},
   "source": [
    "### order_protocol"
   ]
  },
  {
   "cell_type": "code",
   "execution_count": 12,
   "metadata": {},
   "outputs": [],
   "source": [
    "# order_protocol: adding a new class for missing values:\n",
    "\n",
    "train_data.loc[train_data['order_protocol'].isnull(),'order_protocol'] = 0"
   ]
  },
  {
   "cell_type": "markdown",
   "metadata": {},
   "source": [
    "### min_item_price, total_onshift_dashers, total_busy_dashers, total_outstanding_orders, estimated_store_to_consumer_driving_duration"
   ]
  },
  {
   "cell_type": "code",
   "execution_count": 20,
   "metadata": {},
   "outputs": [],
   "source": [
    "# impute with median value:\n",
    "\n",
    "for i in ['min_item_price','total_onshift_dashers','total_busy_dashers','total_outstanding_orders',\n",
    "          'estimated_store_to_consumer_driving_duration']:\n",
    "    \n",
    "    train_data.loc[train_data[i].isnull(),i] = train_data[i].median()\n",
    "    \n",
    "# onshift dashers < busy dashers !!\n",
    "\n",
    "train_data['total_onshift_dashers'] = np.where(train_data['total_busy_dashers']>train_data['total_onshift_dashers'],\n",
    "                                             train_data['total_busy_dashers'],train_data['total_onshift_dashers'])\n"
   ]
  },
  {
   "cell_type": "markdown",
   "metadata": {},
   "source": [
    "### store_primary_category"
   ]
  },
  {
   "cell_type": "code",
   "execution_count": 39,
   "metadata": {},
   "outputs": [],
   "source": [
    "# store_primary_category: adding a new class for missing values and encode to numerical classes:\n",
    "\n",
    "train_data.loc[train_data['store_primary_category'].isnull(),'store_primary_category'] = 'miss'\n",
    "le_str_ctg = preprocessing.LabelEncoder()\n",
    "le_str_ctg.fit(train_data['store_primary_category'])\n",
    "train_data['store_primary_category_t'] = le_str_ctg.transform(train_data['store_primary_category'])\n",
    "\n",
    "train_data.drop(['store_primary_category'],axis = 1, inplace = True)"
   ]
  },
  {
   "cell_type": "markdown",
   "metadata": {},
   "source": [
    "## Adding new features:"
   ]
  },
  {
   "cell_type": "markdown",
   "metadata": {},
   "source": [
    "### Day, Hour, Shift"
   ]
  },
  {
   "cell_type": "code",
   "execution_count": 41,
   "metadata": {},
   "outputs": [],
   "source": [
    "# Busy hours depend on day, hour and shift of the order\n",
    "\n",
    "train_data['Deliv_Day'] = created_at.dt.weekday\n",
    "train_data['Deliv_hour'] = created_at.dt.hour\n",
    "\n",
    "def shift(x):\n",
    "    if x >6 and x<12:\n",
    "        return 1    # 'Morning'\n",
    "    elif x >=12 and x<=17:\n",
    "        return 2    #'Lunch'\n",
    "    elif x >17 and x<24:\n",
    "        return 3    #'Dinner'\n",
    "    else:\n",
    "        return 4    #'Early_Morning'\n",
    "        \n",
    "train_data['Deliver_shift'] = train_data['Deliv_hour'].apply(shift)"
   ]
  },
  {
   "cell_type": "markdown",
   "metadata": {},
   "source": [
    "### Percentage of free dashers"
   ]
  },
  {
   "cell_type": "code",
   "execution_count": 42,
   "metadata": {},
   "outputs": [],
   "source": [
    "# % of free dashers at any given time\n",
    "\n",
    "train_data['%_Dashers_free'] = np.where((train_data['total_busy_dashers'] + train_data['total_onshift_dashers'] ==0) , 0,\n",
    "                                      (1 - (train_data['total_busy_dashers']/train_data['total_onshift_dashers']))*100)\n"
   ]
  },
  {
   "cell_type": "markdown",
   "metadata": {},
   "source": [
    "### Ratio of dashers and orders"
   ]
  },
  {
   "cell_type": "code",
   "execution_count": 43,
   "metadata": {},
   "outputs": [],
   "source": [
    "# No of free dashers to no of outstanding orders at a given time\n",
    "\n",
    "train_data['Free_Dash/Outdng_Orders'] = np.where((train_data['total_outstanding_orders'] ==0) , 0,\n",
    "                                               (train_data['total_onshift_dashers'] - \n",
    "                                                train_data['total_busy_dashers'])/train_data['total_outstanding_orders'])\n"
   ]
  },
  {
   "cell_type": "markdown",
   "metadata": {},
   "source": [
    "## Summary of new features"
   ]
  },
  {
   "cell_type": "code",
   "execution_count": 44,
   "metadata": {},
   "outputs": [
    {
     "data": {
      "text/html": [
       "<div>\n",
       "<style scoped>\n",
       "    .dataframe tbody tr th:only-of-type {\n",
       "        vertical-align: middle;\n",
       "    }\n",
       "\n",
       "    .dataframe tbody tr th {\n",
       "        vertical-align: top;\n",
       "    }\n",
       "\n",
       "    .dataframe thead th {\n",
       "        text-align: right;\n",
       "    }\n",
       "</style>\n",
       "<table border=\"1\" class=\"dataframe\">\n",
       "  <thead>\n",
       "    <tr style=\"text-align: right;\">\n",
       "      <th></th>\n",
       "      <th>% missing</th>\n",
       "      <th>No_uniq</th>\n",
       "      <th>Max_Val</th>\n",
       "      <th>Min_Val</th>\n",
       "    </tr>\n",
       "  </thead>\n",
       "  <tbody>\n",
       "    <tr>\n",
       "      <th>market_id</th>\n",
       "      <td>0.0</td>\n",
       "      <td>7</td>\n",
       "      <td>6.0</td>\n",
       "      <td>0.0</td>\n",
       "    </tr>\n",
       "    <tr>\n",
       "      <th>order_protocol</th>\n",
       "      <td>0.0</td>\n",
       "      <td>8</td>\n",
       "      <td>7.0</td>\n",
       "      <td>0.0</td>\n",
       "    </tr>\n",
       "    <tr>\n",
       "      <th>total_items</th>\n",
       "      <td>0.0</td>\n",
       "      <td>57</td>\n",
       "      <td>411.0</td>\n",
       "      <td>1.0</td>\n",
       "    </tr>\n",
       "    <tr>\n",
       "      <th>subtotal</th>\n",
       "      <td>0.0</td>\n",
       "      <td>8367</td>\n",
       "      <td>27100.0</td>\n",
       "      <td>0.0</td>\n",
       "    </tr>\n",
       "    <tr>\n",
       "      <th>num_distinct_items</th>\n",
       "      <td>0.0</td>\n",
       "      <td>20</td>\n",
       "      <td>20.0</td>\n",
       "      <td>1.0</td>\n",
       "    </tr>\n",
       "    <tr>\n",
       "      <th>min_item_price</th>\n",
       "      <td>0.0</td>\n",
       "      <td>2300</td>\n",
       "      <td>14700.0</td>\n",
       "      <td>0.0</td>\n",
       "    </tr>\n",
       "    <tr>\n",
       "      <th>max_item_price</th>\n",
       "      <td>0.0</td>\n",
       "      <td>2652</td>\n",
       "      <td>14700.0</td>\n",
       "      <td>0.0</td>\n",
       "    </tr>\n",
       "    <tr>\n",
       "      <th>total_onshift_dashers</th>\n",
       "      <td>0.0</td>\n",
       "      <td>168</td>\n",
       "      <td>171.0</td>\n",
       "      <td>0.0</td>\n",
       "    </tr>\n",
       "    <tr>\n",
       "      <th>total_busy_dashers</th>\n",
       "      <td>0.0</td>\n",
       "      <td>154</td>\n",
       "      <td>154.0</td>\n",
       "      <td>0.0</td>\n",
       "    </tr>\n",
       "    <tr>\n",
       "      <th>total_outstanding_orders</th>\n",
       "      <td>0.0</td>\n",
       "      <td>275</td>\n",
       "      <td>285.0</td>\n",
       "      <td>0.0</td>\n",
       "    </tr>\n",
       "    <tr>\n",
       "      <th>estimated_order_place_duration</th>\n",
       "      <td>0.0</td>\n",
       "      <td>98</td>\n",
       "      <td>2715.0</td>\n",
       "      <td>0.0</td>\n",
       "    </tr>\n",
       "    <tr>\n",
       "      <th>estimated_store_to_consumer_driving_duration</th>\n",
       "      <td>0.0</td>\n",
       "      <td>1335</td>\n",
       "      <td>2088.0</td>\n",
       "      <td>0.0</td>\n",
       "    </tr>\n",
       "    <tr>\n",
       "      <th>Duration</th>\n",
       "      <td>0.0</td>\n",
       "      <td>178</td>\n",
       "      <td>10800.0</td>\n",
       "      <td>120.0</td>\n",
       "    </tr>\n",
       "    <tr>\n",
       "      <th>store_id_t</th>\n",
       "      <td>0.0</td>\n",
       "      <td>6742</td>\n",
       "      <td>6741.0</td>\n",
       "      <td>0.0</td>\n",
       "    </tr>\n",
       "    <tr>\n",
       "      <th>store_primary_category_t</th>\n",
       "      <td>0.0</td>\n",
       "      <td>75</td>\n",
       "      <td>74.0</td>\n",
       "      <td>0.0</td>\n",
       "    </tr>\n",
       "    <tr>\n",
       "      <th>Deliv_Day</th>\n",
       "      <td>0.0</td>\n",
       "      <td>7</td>\n",
       "      <td>6.0</td>\n",
       "      <td>0.0</td>\n",
       "    </tr>\n",
       "    <tr>\n",
       "      <th>Deliv_hour</th>\n",
       "      <td>0.0</td>\n",
       "      <td>18</td>\n",
       "      <td>23.0</td>\n",
       "      <td>0.0</td>\n",
       "    </tr>\n",
       "    <tr>\n",
       "      <th>Deliver_shift</th>\n",
       "      <td>0.0</td>\n",
       "      <td>4</td>\n",
       "      <td>4.0</td>\n",
       "      <td>1.0</td>\n",
       "    </tr>\n",
       "    <tr>\n",
       "      <th>%_Dashers_free</th>\n",
       "      <td>0.0</td>\n",
       "      <td>2247</td>\n",
       "      <td>100.0</td>\n",
       "      <td>0.0</td>\n",
       "    </tr>\n",
       "    <tr>\n",
       "      <th>Free_Dash/Outdng_Orders</th>\n",
       "      <td>0.0</td>\n",
       "      <td>3125</td>\n",
       "      <td>32.0</td>\n",
       "      <td>0.0</td>\n",
       "    </tr>\n",
       "  </tbody>\n",
       "</table>\n",
       "</div>"
      ],
      "text/plain": [
       "                                              % missing  No_uniq  Max_Val  \\\n",
       "market_id                                           0.0        7      6.0   \n",
       "order_protocol                                      0.0        8      7.0   \n",
       "total_items                                         0.0       57    411.0   \n",
       "subtotal                                            0.0     8367  27100.0   \n",
       "num_distinct_items                                  0.0       20     20.0   \n",
       "min_item_price                                      0.0     2300  14700.0   \n",
       "max_item_price                                      0.0     2652  14700.0   \n",
       "total_onshift_dashers                               0.0      168    171.0   \n",
       "total_busy_dashers                                  0.0      154    154.0   \n",
       "total_outstanding_orders                            0.0      275    285.0   \n",
       "estimated_order_place_duration                      0.0       98   2715.0   \n",
       "estimated_store_to_consumer_driving_duration        0.0     1335   2088.0   \n",
       "Duration                                            0.0      178  10800.0   \n",
       "store_id_t                                          0.0     6742   6741.0   \n",
       "store_primary_category_t                            0.0       75     74.0   \n",
       "Deliv_Day                                           0.0        7      6.0   \n",
       "Deliv_hour                                          0.0       18     23.0   \n",
       "Deliver_shift                                       0.0        4      4.0   \n",
       "%_Dashers_free                                      0.0     2247    100.0   \n",
       "Free_Dash/Outdng_Orders                             0.0     3125     32.0   \n",
       "\n",
       "                                              Min_Val  \n",
       "market_id                                         0.0  \n",
       "order_protocol                                    0.0  \n",
       "total_items                                       1.0  \n",
       "subtotal                                          0.0  \n",
       "num_distinct_items                                1.0  \n",
       "min_item_price                                    0.0  \n",
       "max_item_price                                    0.0  \n",
       "total_onshift_dashers                             0.0  \n",
       "total_busy_dashers                                0.0  \n",
       "total_outstanding_orders                          0.0  \n",
       "estimated_order_place_duration                    0.0  \n",
       "estimated_store_to_consumer_driving_duration      0.0  \n",
       "Duration                                        120.0  \n",
       "store_id_t                                        0.0  \n",
       "store_primary_category_t                          0.0  \n",
       "Deliv_Day                                         0.0  \n",
       "Deliv_hour                                        0.0  \n",
       "Deliver_shift                                     1.0  \n",
       "%_Dashers_free                                    0.0  \n",
       "Free_Dash/Outdng_Orders                           0.0  "
      ]
     },
     "execution_count": 44,
     "metadata": {},
     "output_type": "execute_result"
    }
   ],
   "source": [
    "ds_summry(train_data)"
   ]
  },
  {
   "cell_type": "markdown",
   "metadata": {},
   "source": [
    "# Pre-processing data"
   ]
  },
  {
   "cell_type": "code",
   "execution_count": 46,
   "metadata": {},
   "outputs": [],
   "source": [
    "from sklearn.model_selection import train_test_split\n",
    "from sklearn.preprocessing import StandardScaler\n",
    "\n",
    "X = train_data.drop(['Duration'],axis = 1)\n",
    "y = train_data[['Duration']]\n",
    "\n",
    "# Breaking up into train/test  set\n",
    "X_train, X_test, y_train, y_test = train_test_split(X, y, test_size=0.35, random_state=10)\n",
    "\n",
    "# Scaling the X variables for train set\n",
    "scaler = StandardScaler().fit(X_train) "
   ]
  },
  {
   "cell_type": "markdown",
   "metadata": {},
   "source": [
    "# Models"
   ]
  },
  {
   "cell_type": "markdown",
   "metadata": {},
   "source": [
    "## Decision Tree"
   ]
  },
  {
   "cell_type": "code",
   "execution_count": 79,
   "metadata": {},
   "outputs": [
    {
     "name": "stdout",
     "output_type": "stream",
     "text": [
      "Decision Regressor 914554.36\n"
     ]
    }
   ],
   "source": [
    "from sklearn.tree import DecisionTreeRegressor\n",
    "from sklearn.metrics import mean_squared_error\n",
    "\n",
    "dtr = DecisionTreeRegressor(max_depth = 11, min_samples_leaf = 12, random_state = 0)\n",
    "dtr.fit(scaler.transform(X_train), y_train)\n",
    "error = mean_squared_error(y_test, dtr.predict(scaler.transform(X_test)))\n",
    "\n",
    "print('Decision Regressor', round(error,2))"
   ]
  },
  {
   "cell_type": "markdown",
   "metadata": {},
   "source": [
    "## Random Forest"
   ]
  },
  {
   "cell_type": "code",
   "execution_count": 65,
   "metadata": {},
   "outputs": [
    {
     "name": "stdout",
     "output_type": "stream",
     "text": [
      "Random Forest Regressor 819392.22\n"
     ]
    }
   ],
   "source": [
    "from sklearn.ensemble import RandomForestRegressor\n",
    "\n",
    "rf = RandomForestRegressor(n_estimators =100)\n",
    "rf.fit(scaler.transform(X_train), y_train)\n",
    "error = mean_squared_error(y_test, rf.predict(scaler.transform(X_test)))\n",
    "\n",
    "print('Random Forest Regressor', round(error,2))"
   ]
  },
  {
   "cell_type": "markdown",
   "metadata": {},
   "source": [
    "## Gradient Boosting"
   ]
  },
  {
   "cell_type": "code",
   "execution_count": 67,
   "metadata": {},
   "outputs": [
    {
     "name": "stdout",
     "output_type": "stream",
     "text": [
      "Gradient Boosting Regressor 889443.05\n"
     ]
    }
   ],
   "source": [
    "from sklearn.ensemble.gradient_boosting import GradientBoostingRegressor\n",
    "\n",
    "gbr = GradientBoostingRegressor(n_estimators =100, max_depth=11, max_features = 12,\n",
    "                                    random_state=0, learning_rate=0.01, loss='ls')\n",
    "gbr.fit(scaler.transform(X_train), y_train) \n",
    "error = mean_squared_error(y_test, gbr.predict(scaler.transform(X_test)))\n",
    "\n",
    "print('Gradient Boosting Regressor', round(error,2))"
   ]
  },
  {
   "cell_type": "markdown",
   "metadata": {},
   "source": [
    "## Extra Trees"
   ]
  },
  {
   "cell_type": "code",
   "execution_count": 69,
   "metadata": {},
   "outputs": [
    {
     "name": "stdout",
     "output_type": "stream",
     "text": [
      "Extra Trees Regressor 799797.83\n"
     ]
    }
   ],
   "source": [
    "from sklearn.ensemble import ExtraTreesRegressor\n",
    "\n",
    "etr = ExtraTreesRegressor(n_estimators=200, random_state=0)\n",
    "etr.fit(scaler.transform(X_train), y_train) \n",
    "error = mean_squared_error(y_test, etr.predict(scaler.transform(X_test)))\n",
    "\n",
    "print('Extra Trees Regressor', round(error,2))"
   ]
  },
  {
   "cell_type": "markdown",
   "metadata": {},
   "source": [
    "## AdaBOOST"
   ]
  },
  {
   "cell_type": "code",
   "execution_count": 84,
   "metadata": {},
   "outputs": [
    {
     "name": "stdout",
     "output_type": "stream",
     "text": [
      "Adaboost Regressor 855084.35\n"
     ]
    }
   ],
   "source": [
    "from sklearn.ensemble import AdaBoostRegressor\n",
    "\n",
    "ada = AdaBoostRegressor(base_estimator=dtr, n_estimators=100, random_state=0, learning_rate=0.01, loss='square')\n",
    "ada.fit(scaler.transform(X_train), y_train)\n",
    "error = mean_squared_error(y_test, ada.predict(scaler.transform(X_test)))\n",
    "\n",
    "print('Adaboost Regressor', round(error,2))"
   ]
  },
  {
   "cell_type": "markdown",
   "metadata": {},
   "source": [
    "## XGBoost"
   ]
  },
  {
   "cell_type": "code",
   "execution_count": 87,
   "metadata": {},
   "outputs": [
    {
     "name": "stdout",
     "output_type": "stream",
     "text": [
      "XGBoost Regressor 764773.38\n"
     ]
    }
   ],
   "source": [
    "from xgboost import XGBRegressor\n",
    "\n",
    "xgb = XGBRegressor()\n",
    "xgb.fit(scaler.transform(X_train), y_train)\n",
    "error = mean_squared_error(y_test, xgb.predict(scaler.transform(X_test)))\n",
    "\n",
    "print('XGBoost Regressor', round(error,2))"
   ]
  },
  {
   "cell_type": "markdown",
   "metadata": {},
   "source": [
    "## MLP"
   ]
  },
  {
   "cell_type": "code",
   "execution_count": 91,
   "metadata": {
    "scrolled": true
   },
   "outputs": [
    {
     "name": "stdout",
     "output_type": "stream",
     "text": [
      "Epoch 1/100\n",
      "128234/128234 [==============================] - 2s 16us/sample - loss: 9237692.0728\n",
      "Epoch 2/100\n",
      "128234/128234 [==============================] - 2s 12us/sample - loss: 9200805.3867\n",
      "Epoch 3/100\n",
      "128234/128234 [==============================] - 2s 12us/sample - loss: 9168892.9881\n",
      "Epoch 4/100\n",
      "128234/128234 [==============================] - 2s 12us/sample - loss: 9137468.6354\n",
      "Epoch 5/100\n",
      "128234/128234 [==============================] - 2s 12us/sample - loss: 9106286.0822\n",
      "Epoch 6/100\n",
      "128234/128234 [==============================] - 2s 12us/sample - loss: 9075248.9360\n",
      "Epoch 7/100\n",
      "128234/128234 [==============================] - 2s 12us/sample - loss: 9044325.1711\n",
      "Epoch 8/100\n",
      "128234/128234 [==============================] - 2s 12us/sample - loss: 9013495.1447\n",
      "Epoch 9/100\n",
      "128234/128234 [==============================] - 2s 12us/sample - loss: 8982741.2733\n",
      "Epoch 10/100\n",
      "128234/128234 [==============================] - 2s 12us/sample - loss: 8952062.0285\n",
      "Epoch 11/100\n",
      "128234/128234 [==============================] - 2s 12us/sample - loss: 8921451.0759\n",
      "Epoch 12/100\n",
      "128234/128234 [==============================] - 2s 12us/sample - loss: 8890903.4413\n",
      "Epoch 13/100\n",
      "128234/128234 [==============================] - 2s 12us/sample - loss: 8860421.5923\n",
      "Epoch 14/100\n",
      "128234/128234 [==============================] - 2s 12us/sample - loss: 8830002.5637\n",
      "Epoch 15/100\n",
      "128234/128234 [==============================] - 2s 12us/sample - loss: 8799638.6184\n",
      "Epoch 16/100\n",
      "128234/128234 [==============================] - 2s 12us/sample - loss: 8769341.9581\n",
      "Epoch 17/100\n",
      "128234/128234 [==============================] - 2s 12us/sample - loss: 8739099.9740\n",
      "Epoch 18/100\n",
      "128234/128234 [==============================] - 2s 12us/sample - loss: 8708920.8624\n",
      "Epoch 19/100\n",
      "128234/128234 [==============================] - 2s 12us/sample - loss: 8678803.5467\n",
      "Epoch 20/100\n",
      "128234/128234 [==============================] - 2s 13us/sample - loss: 8648745.5335\n",
      "Epoch 21/100\n",
      "128234/128234 [==============================] - 2s 13us/sample - loss: 8618749.0600\n",
      "Epoch 22/100\n",
      "128234/128234 [==============================] - 2s 13us/sample - loss: 8588815.5555\n",
      "Epoch 23/100\n",
      "128234/128234 [==============================] - 2s 13us/sample - loss: 8558943.5026\n",
      "Epoch 24/100\n",
      "128234/128234 [==============================] - 2s 13us/sample - loss: 8529129.2898\n",
      "Epoch 25/100\n",
      "128234/128234 [==============================] - 1s 12us/sample - loss: 8499372.1244\n",
      "Epoch 26/100\n",
      "128234/128234 [==============================] - 1s 11us/sample - loss: 8469675.7862\n",
      "Epoch 27/100\n",
      "128234/128234 [==============================] - 1s 12us/sample - loss: 8440042.6153\n",
      "Epoch 28/100\n",
      "128234/128234 [==============================] - 1s 11us/sample - loss: 8410469.3597\n",
      "Epoch 29/100\n",
      "128234/128234 [==============================] - 2s 12us/sample - loss: 8380962.2332\n",
      "Epoch 30/100\n",
      "128234/128234 [==============================] - 1s 11us/sample - loss: 8351513.5170\n",
      "Epoch 31/100\n",
      "128234/128234 [==============================] - 1s 11us/sample - loss: 8322125.8123\n",
      "Epoch 32/100\n",
      "128234/128234 [==============================] - 2s 12us/sample - loss: 8292798.5208\n",
      "Epoch 33/100\n",
      "128234/128234 [==============================] - 2s 12us/sample - loss: 8263528.6782\n",
      "Epoch 34/100\n",
      "128234/128234 [==============================] - 2s 13us/sample - loss: 8234321.3532\n",
      "Epoch 35/100\n",
      "128234/128234 [==============================] - 2s 12us/sample - loss: 8205166.7047\n",
      "Epoch 36/100\n",
      "128234/128234 [==============================] - 2s 12us/sample - loss: 8176076.3464\n",
      "Epoch 37/100\n",
      "128234/128234 [==============================] - 2s 12us/sample - loss: 8147050.7795\n",
      "Epoch 38/100\n",
      "128234/128234 [==============================] - 2s 12us/sample - loss: 8118085.5437\n",
      "Epoch 39/100\n",
      "128234/128234 [==============================] - 2s 12us/sample - loss: 8089182.9777\n",
      "Epoch 40/100\n",
      "128234/128234 [==============================] - 2s 12us/sample - loss: 8060339.8889\n",
      "Epoch 41/100\n",
      "128234/128234 [==============================] - 2s 12us/sample - loss: 8031551.4339\n",
      "Epoch 42/100\n",
      "128234/128234 [==============================] - 2s 13us/sample - loss: 8002829.7339\n",
      "Epoch 43/100\n",
      "128234/128234 [==============================] - 2s 13us/sample - loss: 7974170.3823\n",
      "Epoch 44/100\n",
      "128234/128234 [==============================] - 1s 11us/sample - loss: 7945567.2027\n",
      "Epoch 45/100\n",
      "128234/128234 [==============================] - 1s 11us/sample - loss: 7917022.3648\n",
      "Epoch 46/100\n",
      "128234/128234 [==============================] - 1s 11us/sample - loss: 7888538.9149\n",
      "Epoch 47/100\n",
      "128234/128234 [==============================] - 1s 11us/sample - loss: 7860114.3816\n",
      "Epoch 48/100\n",
      "128234/128234 [==============================] - 1s 11us/sample - loss: 7831747.7140\n",
      "Epoch 49/100\n",
      "128234/128234 [==============================] - 1s 11us/sample - loss: 7803445.8231\n",
      "Epoch 50/100\n",
      "128234/128234 [==============================] - 1s 11us/sample - loss: 7775204.7926\n",
      "Epoch 51/100\n",
      "128234/128234 [==============================] - 1s 11us/sample - loss: 7747024.7678\n",
      "Epoch 52/100\n",
      "128234/128234 [==============================] - 1s 11us/sample - loss: 7718909.7250\n",
      "Epoch 53/100\n",
      "128234/128234 [==============================] - 1s 11us/sample - loss: 7690851.8198\n",
      "Epoch 54/100\n",
      "128234/128234 [==============================] - 1s 11us/sample - loss: 7662854.9828\n",
      "Epoch 55/100\n",
      "128234/128234 [==============================] - 1s 11us/sample - loss: 7634915.4074\n",
      "Epoch 56/100\n",
      "128234/128234 [==============================] - 1s 11us/sample - loss: 7607035.3241\n",
      "Epoch 57/100\n",
      "128234/128234 [==============================] - 1s 11us/sample - loss: 7579222.9295\n",
      "Epoch 58/100\n",
      "128234/128234 [==============================] - 1s 12us/sample - loss: 7551468.7112\n",
      "Epoch 59/100\n",
      "128234/128234 [==============================] - 1s 11us/sample - loss: 7523769.8366\n",
      "Epoch 60/100\n",
      "128234/128234 [==============================] - 1s 11us/sample - loss: 7496132.0885\n",
      "Epoch 61/100\n",
      "128234/128234 [==============================] - 1s 11us/sample - loss: 7468558.8346\n",
      "Epoch 62/100\n",
      "128234/128234 [==============================] - 1s 11us/sample - loss: 7441043.5912\n",
      "Epoch 63/100\n",
      "128234/128234 [==============================] - 1s 11us/sample - loss: 7413587.0997\n",
      "Epoch 64/100\n",
      "128234/128234 [==============================] - 1s 11us/sample - loss: 7386195.2186\n",
      "Epoch 65/100\n",
      "128234/128234 [==============================] - 1s 11us/sample - loss: 7358865.3087\n",
      "Epoch 66/100\n",
      "128234/128234 [==============================] - 1s 11us/sample - loss: 7331593.5286\n",
      "Epoch 67/100\n",
      "128234/128234 [==============================] - 1s 11us/sample - loss: 7304379.2794\n",
      "Epoch 68/100\n",
      "128234/128234 [==============================] - 1s 11us/sample - loss: 7277223.8368\n",
      "Epoch 69/100\n",
      "128234/128234 [==============================] - 1s 11us/sample - loss: 7250130.4112\n",
      "Epoch 70/100\n",
      "128234/128234 [==============================] - 1s 11us/sample - loss: 7223102.6677\n",
      "Epoch 71/100\n",
      "128234/128234 [==============================] - 1s 11us/sample - loss: 7196137.8244\n",
      "Epoch 72/100\n",
      "128234/128234 [==============================] - 1s 11us/sample - loss: 7169224.8849\n",
      "Epoch 73/100\n",
      "128234/128234 [==============================] - 1s 11us/sample - loss: 7142373.7984\n",
      "Epoch 74/100\n",
      "128234/128234 [==============================] - 1s 11us/sample - loss: 7115583.7917\n",
      "Epoch 75/100\n",
      "128234/128234 [==============================] - 1s 12us/sample - loss: 7088853.7078\n",
      "Epoch 76/100\n",
      "128234/128234 [==============================] - 1s 12us/sample - loss: 7062179.9243\n",
      "Epoch 77/100\n",
      "128234/128234 [==============================] - 2s 12us/sample - loss: 7035566.4778\n",
      "Epoch 78/100\n",
      "128234/128234 [==============================] - 2s 12us/sample - loss: 7009020.4032\n",
      "Epoch 79/100\n",
      "128234/128234 [==============================] - 2s 13us/sample - loss: 6982533.8573\n",
      "Epoch 80/100\n",
      "128234/128234 [==============================] - 2s 13us/sample - loss: 6956107.8785\n",
      "Epoch 81/100\n",
      "128234/128234 [==============================] - 2s 13us/sample - loss: 6929742.9000\n",
      "Epoch 82/100\n",
      "128234/128234 [==============================] - 2s 12us/sample - loss: 6903437.2949\n",
      "Epoch 83/100\n",
      "128234/128234 [==============================] - 2s 13us/sample - loss: 6877193.0641\n",
      "Epoch 84/100\n"
     ]
    },
    {
     "name": "stdout",
     "output_type": "stream",
     "text": [
      "128234/128234 [==============================] - 2s 14us/sample - loss: 6851009.7326\n",
      "Epoch 85/100\n",
      "128234/128234 [==============================] - 2s 13us/sample - loss: 6824889.7549\n",
      "Epoch 86/100\n",
      "128234/128234 [==============================] - 2s 12us/sample - loss: 6798822.8785\n",
      "Epoch 87/100\n",
      "128234/128234 [==============================] - 2s 12us/sample - loss: 6772816.0305\n",
      "Epoch 88/100\n",
      "128234/128234 [==============================] - 1s 11us/sample - loss: 6746870.2482\n",
      "Epoch 89/100\n",
      "128234/128234 [==============================] - 1s 12us/sample - loss: 6720986.2547\n",
      "Epoch 90/100\n",
      "128234/128234 [==============================] - 2s 12us/sample - loss: 6695164.4439\n",
      "Epoch 91/100\n",
      "128234/128234 [==============================] - 2s 12us/sample - loss: 6669404.5842\n",
      "Epoch 92/100\n",
      "128234/128234 [==============================] - 2s 12us/sample - loss: 6643701.9606\n",
      "Epoch 93/100\n",
      "128234/128234 [==============================] - 2s 12us/sample - loss: 6618059.5233\n",
      "Epoch 94/100\n",
      "128234/128234 [==============================] - 2s 12us/sample - loss: 6592478.9220\n",
      "Epoch 95/100\n",
      "128234/128234 [==============================] - 2s 12us/sample - loss: 6566955.0768\n",
      "Epoch 96/100\n",
      "128234/128234 [==============================] - 2s 12us/sample - loss: 6541493.6917\n",
      "Epoch 97/100\n",
      "128234/128234 [==============================] - 2s 12us/sample - loss: 6516095.1440\n",
      "Epoch 98/100\n",
      "128234/128234 [==============================] - 2s 13us/sample - loss: 6490762.9154\n",
      "Epoch 99/100\n",
      "128234/128234 [==============================] - 2s 12us/sample - loss: 6465487.1927\n",
      "Epoch 100/100\n",
      "128234/128234 [==============================] - 2s 12us/sample - loss: 6440267.6621\n"
     ]
    },
    {
     "data": {
      "text/plain": [
       "<tensorflow.python.keras.callbacks.History at 0x1a40ee5b10>"
      ]
     },
     "execution_count": 91,
     "metadata": {},
     "output_type": "execute_result"
    }
   ],
   "source": [
    "from tensorflow.keras.models import Sequential\n",
    "from tensorflow.keras.layers import Dense, Dropout, BatchNormalization, Activation\n",
    "\n",
    "from tensorflow import keras\n",
    "\n",
    "def DNN():\n",
    "    model = Sequential()\n",
    "    model.add(Dense(50, input_dim=19, kernel_initializer='GlorotUniform', activation='tanh'))\n",
    "    model.add(Dense(50, activation='tanh'))\n",
    "    model.add(Dense(10, activation='tanh'))\n",
    "    model.add(Dense(1))\n",
    "\n",
    "    # Compile model\n",
    "    model.compile(loss='mse', optimizer='adam')\n",
    "    return model\n",
    "\n",
    "model = DNN()\n",
    "model.fit(scaler.transform(X_train), y_train, epochs=100, batch_size=256)"
   ]
  },
  {
   "cell_type": "code",
   "execution_count": 92,
   "metadata": {},
   "outputs": [
    {
     "name": "stdout",
     "output_type": "stream",
     "text": [
      "MLP 6504656.46\n"
     ]
    }
   ],
   "source": [
    "error = mean_squared_error(y_test, model.predict(scaler.transform(X_test)))\n",
    "\n",
    "print('MLP', round(error,2))"
   ]
  }
 ],
 "metadata": {
  "kernelspec": {
   "display_name": "Python 3",
   "language": "python",
   "name": "python3"
  },
  "language_info": {
   "codemirror_mode": {
    "name": "ipython",
    "version": 3
   },
   "file_extension": ".py",
   "mimetype": "text/x-python",
   "name": "python",
   "nbconvert_exporter": "python",
   "pygments_lexer": "ipython3",
   "version": "3.7.9"
  }
 },
 "nbformat": 4,
 "nbformat_minor": 4
}
